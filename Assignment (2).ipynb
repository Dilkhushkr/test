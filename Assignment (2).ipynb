{
 "cells": [
  {
   "cell_type": "code",
   "execution_count": 2,
   "id": "330cec81-77b7-4d3d-b74e-06ecbaaab6d6",
   "metadata": {},
   "outputs": [],
   "source": [
    "# what is  Web Scrapping ? why is it used ? Give three areas where Web Scraping is used to get data."
   ]
  },
  {
   "cell_type": "code",
   "execution_count": 3,
   "id": "d8bc9626-60c8-49e6-9138-5da4c335e0a1",
   "metadata": {},
   "outputs": [],
   "source": [
    "#Web scraping also known as  web harvesting or web data extraction is the process of automatically extracting information and data from websites\n",
    "#Ans :- Data Collection and Analysis\n",
    "  # Price Monitoring and Comparison\n",
    "  # Content Aggregation\n",
    "  # E-commerce:"
   ]
  },
  {
   "cell_type": "code",
   "execution_count": 4,
   "id": "c2fb6bed-5219-49a7-9725-4f8219856d16",
   "metadata": {},
   "outputs": [],
   "source": [
    "# what are the different methods used for web scraping?\n",
    "#Ans:-Manual Copy-Paste\n",
    "    #   Web Scraping Libraries\n",
    "    #   APIs\n",
    "    #   Headless Browsers\n",
    "    # Web Scraping Services etc."
   ]
  },
  {
   "cell_type": "code",
   "execution_count": 5,
   "id": "fb0bedf8-5aec-4767-b1fe-a480a9c42fba",
   "metadata": {},
   "outputs": [],
   "source": [
    "# what is Beautiful Soup ? Why is it used?\n",
    "# Ans :- the is a method through the this method we beautify "
   ]
  },
  {
   "cell_type": "code",
   "execution_count": 6,
   "id": "61f4cfa7-2de5-4c41-a69f-20d143c75e96",
   "metadata": {},
   "outputs": [],
   "source": [
    "# why is flask used in this Web Scraping project?\n",
    "#Ans :- flask is a API through the flask we connect the differnt differnt language at one plateforme\n"
   ]
  },
  {
   "cell_type": "code",
   "execution_count": null,
   "id": "d26c14ea-1316-48aa-acab-26c204d7275f",
   "metadata": {},
   "outputs": [],
   "source": [
    "# Write the names of AWS services used in this project .Also , explain the use of each service.\n",
    "# Ans :- 1.Amazon EC2 (Elastic Compute Cloud):- EC2 is a scalable virtual server in the cloud. \n",
    "# It is commonly used for hosting web applications,\n",
    "# running backend services, and other compute-intensive tasks.\n",
    "# 2.Amazon S3 (Simple Storage Service): S3 is an object storage service used to store and retrieve data,\n",
    "# including files, images, and backups.\n",
    "# It is often used for static website hosting, data backup, and data distribution."
   ]
  }
 ],
 "metadata": {
  "kernelspec": {
   "display_name": "Python 3 (ipykernel)",
   "language": "python",
   "name": "python3"
  },
  "language_info": {
   "codemirror_mode": {
    "name": "ipython",
    "version": 3
   },
   "file_extension": ".py",
   "mimetype": "text/x-python",
   "name": "python",
   "nbconvert_exporter": "python",
   "pygments_lexer": "ipython3",
   "version": "3.10.8"
  }
 },
 "nbformat": 4,
 "nbformat_minor": 5
}
