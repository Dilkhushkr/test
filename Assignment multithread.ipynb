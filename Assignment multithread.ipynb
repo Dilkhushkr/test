{
 "cells": [
  {
   "cell_type": "code",
   "execution_count": 2,
   "id": "138095a2-d034-4e61-98fa-174d78f874df",
   "metadata": {},
   "outputs": [],
   "source": [
    "# Q. What is multithreading in python ? why is it used ?Name the module used to handle threads in python\n",
    "# Ans : -  if we want execute multipale thread in a single unit is called mutlithread\n",
    "            #mutithread in python is if we want to in a same memory  one or more task run so we can use through the multithread \n",
    "         # threading module use in handle thread"
   ]
  },
  {
   "cell_type": "code",
   "execution_count": 3,
   "id": "08f2b616-5064-442a-bab7-18652cc36b36",
   "metadata": {},
   "outputs": [],
   "source": [
    "#Q. why threading module used ? Write the use of the following function?\n",
    "#    1.activeCount()\n",
    "#     2.currentThread()\n",
    "#     3. enumerate()"
   ]
  },
  {
   "cell_type": "code",
   "execution_count": 4,
   "id": "7aa327f0-db8d-488f-a8af-b7c44576688d",
   "metadata": {},
   "outputs": [],
   "source": [
    "# Ans: - threading module in python is used to work with threads?\n",
    "#        1.activeCount():-this function return the number of thread objects currently alive.\n",
    "#        2. currentThread():-this function returns the current Thread object ,which represents the thread from which the function is called.\n",
    "#        3. enumerate():-this function returns a list os all currently alive thread objects."
   ]
  },
  {
   "cell_type": "code",
   "execution_count": 5,
   "id": "ce908e9a-47b4-42ac-acf4-c5a5c1a9b48a",
   "metadata": {},
   "outputs": [],
   "source": [
    "import threading"
   ]
  },
  {
   "cell_type": "code",
   "execution_count": 9,
   "id": "87236349-8930-4d9d-9b75-a6a1761d9088",
   "metadata": {},
   "outputs": [
    {
     "name": "stdout",
     "output_type": "stream",
     "text": [
      "Thread Thread-15 (worker_function) is executing.\n",
      "Thread Thread-16 (worker_function) is executing.\n",
      "Thread Thread-17 (worker_function) is executing.\n",
      "Thread Thread-18 (worker_function) is executing.\n",
      "Thread Thread-19 (worker_function) is executing.\n",
      "Number of active threads: 8\n",
      "Thread name: MainThread, Thread ID: 140004541839168\n",
      "Thread name: IOPub, Thread ID: 140004471309888\n",
      "Thread name: Heartbeat, Thread ID: 140004391122496\n",
      "Thread name: Thread-3 (_watch_pipe_fd), Thread ID: 140004365944384\n",
      "Thread name: Thread-4 (_watch_pipe_fd), Thread ID: 140004357551680\n",
      "Thread name: Control, Thread ID: 140004349158976\n",
      "Thread name: IPythonHistorySavingThread, Thread ID: 140004340766272\n",
      "Thread name: Thread-2, Thread ID: 140003921360448\n",
      "All threads have completed.\n"
     ]
    },
    {
     "name": "stderr",
     "output_type": "stream",
     "text": [
      "/tmp/ipykernel_84/659402463.py:2: DeprecationWarning: currentThread() is deprecated, use current_thread() instead\n",
      "  print(f\"Thread {threading.currentThread().name} is executing.\")\n",
      "/tmp/ipykernel_84/659402463.py:8: DeprecationWarning: activeCount() is deprecated, use active_count() instead\n",
      "  print(f\"Number of active threads: {threading.activeCount()}\")\n"
     ]
    }
   ],
   "source": [
    "def worker_function():\n",
    "     print(f\"Thread {threading.currentThread().name} is executing.\")\n",
    "threads= []\n",
    "for i in range(5):\n",
    "    thread = threading.Thread(target=worker_function)\n",
    "    threads.append(thread)\n",
    "    thread.start()\n",
    "print(f\"Number of active threads: {threading.activeCount()}\")\n",
    "for thread in threading.enumerate():\n",
    "    print(f\"Thread name: {thread.name}, Thread ID: {thread.ident}\")\n",
    "\n",
    "for thread in threads:\n",
    "    thread.join()\n",
    "\n",
    "print(\"All threads have completed.\")"
   ]
  },
  {
   "cell_type": "code",
   "execution_count": 12,
   "id": "f9362b70-9903-4ecf-9623-b4076e6b01dc",
   "metadata": {},
   "outputs": [],
   "source": [
    "# Q. Explain the following functions:\n",
    "#     1.run()\n",
    "#     2.start()\n",
    "#     3.join()\n",
    "#     4.isAlive()"
   ]
  },
  {
   "cell_type": "code",
   "execution_count": 13,
   "id": "b264a9e6-3211-4715-af15-155eee67aa46",
   "metadata": {},
   "outputs": [],
   "source": [
    "import threading"
   ]
  },
  {
   "cell_type": "code",
   "execution_count": 19,
   "id": "61d0d257-5669-4d30-a1e7-d7b6a6edfcfe",
   "metadata": {},
   "outputs": [],
   "source": [
    "class MyThread(threading.Thread):\n",
    "    def run(self):\n",
    "        print(f\"Thread {self.name} is exexuting.\")"
   ]
  },
  {
   "cell_type": "code",
   "execution_count": 20,
   "id": "c334e20d-f379-4daa-a040-0ca93c9aa814",
   "metadata": {},
   "outputs": [
    {
     "name": "stdout",
     "output_type": "stream",
     "text": [
      "Thread Thread-22 is exexuting.\n"
     ]
    }
   ],
   "source": [
    "thread = MyThread()\n",
    "thread.start()"
   ]
  },
  {
   "cell_type": "code",
   "execution_count": 21,
   "id": "33c614d0-7dec-4dbb-a8e1-5dc712eb7a8c",
   "metadata": {},
   "outputs": [],
   "source": [
    "import threading"
   ]
  },
  {
   "cell_type": "code",
   "execution_count": 24,
   "id": "5ed88f6c-d1ba-4118-aebd-e6268dca8ef8",
   "metadata": {},
   "outputs": [
    {
     "name": "stdout",
     "output_type": "stream",
     "text": [
      "Thread is working.\n",
      "Thread has completed\n"
     ]
    }
   ],
   "source": [
    "def worker_function():\n",
    "    print(\"Thread is working.\")\n",
    "thread = threading.Thread(target=worker_function)\n",
    "thread.start()\n",
    "thread.join()\n",
    "print(\"Thread has completed\")"
   ]
  },
  {
   "cell_type": "code",
   "execution_count": 25,
   "id": "5f93b82a-966a-4a8f-8d83-5cb9050193f3",
   "metadata": {},
   "outputs": [],
   "source": [
    "import threading\n",
    "import time\n"
   ]
  },
  {
   "cell_type": "code",
   "execution_count": null,
   "id": "cb4b06f8-bd52-4a65-9294-1b92f2e5869b",
   "metadata": {},
   "outputs": [],
   "source": [
    "def work_function():\n",
    "    time.sleep(2)\n",
    "thread = threading.Thread(target=work_function)\n",
    "thread.start()\n",
    "print(f\"Is thread alive? {thread.is_Alive()}\")# output true thread run \n",
    "thread.join()\n",
    "print(f\"Is thread alive? {thread.i_sAlive()}\") # output false tread finish"
   ]
  },
  {
   "cell_type": "code",
   "execution_count": 2,
   "id": "6a271777-66db-4b0f-ba39-ea72ae3caedc",
   "metadata": {},
   "outputs": [],
   "source": [
    "# write a program to create two threads . Thread one must print the list of squre and thread two must print the list of cube"
   ]
  },
  {
   "cell_type": "code",
   "execution_count": 1,
   "id": "d3b4631d-1d22-4f57-9ca7-6d4199e82aa6",
   "metadata": {},
   "outputs": [
    {
     "name": "stdout",
     "output_type": "stream",
     "text": [
      "List of Squares : [1, 4, 9, 16, 25]\n",
      "List of Cubes: [1, 8, 27, 64, 125]\n",
      "Both threads have completed .\n"
     ]
    }
   ],
   "source": [
    "import threading\n",
    "def calculate_squares(number):\n",
    "    squares = [num*num for num in number]\n",
    "    print(\"List of Squares :\",squares)\n",
    "def calculate_cubes(number):\n",
    "    cubes = [num*num*num for num in number]\n",
    "    print(\"List of Cubes:\",cubes)\n",
    "number = [1,2,3,4,5]\n",
    "thread1 = threading.Thread(target=calculate_squares,args=(number,))\n",
    "thread2 = threading.Thread(target=calculate_cubes,args=(number,))\n",
    "thread1.start()\n",
    "thread2.start()\n",
    "thread1.join\n",
    "thread2.join\n",
    "print(\"Both threads have completed .\")\n",
    "\n",
    "\n",
    "\n"
   ]
  },
  {
   "cell_type": "code",
   "execution_count": 2,
   "id": "3893e723-2a34-449a-87cd-b816ddf0d7c6",
   "metadata": {},
   "outputs": [],
   "source": [
    "# Q. state advantages and disadvantage of multithreading"
   ]
  },
  {
   "cell_type": "code",
   "execution_count": 3,
   "id": "ac8eaff4-1e2c-496e-adaa-75ca2768bc5b",
   "metadata": {},
   "outputs": [],
   "source": [
    "             #advantages\n",
    "# Concurrency\n",
    "# Resource Sharing\n",
    "# Faster Task Switching\n",
    "# Responsive UI\n",
    "# Efficient Memory Usage\n",
    "            # Disadvantages \n",
    "# Complexity\n",
    "# Race Conditions\n",
    "# Deadlocks\n",
    "# GIL Limitations\n",
    "# Debugging\n",
    "# Performance\n",
    "# Overhead"
   ]
  },
  {
   "cell_type": "code",
   "execution_count": null,
   "id": "29718bc5-cba4-4539-b5e1-2c2578abfcdd",
   "metadata": {},
   "outputs": [],
   "source": [
    "#Q. Explain deadlocks and race conditions."
   ]
  }
 ],
 "metadata": {
  "kernelspec": {
   "display_name": "Python 3 (ipykernel)",
   "language": "python",
   "name": "python3"
  },
  "language_info": {
   "codemirror_mode": {
    "name": "ipython",
    "version": 3
   },
   "file_extension": ".py",
   "mimetype": "text/x-python",
   "name": "python",
   "nbconvert_exporter": "python",
   "pygments_lexer": "ipython3",
   "version": "3.10.8"
  }
 },
 "nbformat": 4,
 "nbformat_minor": 5
}
